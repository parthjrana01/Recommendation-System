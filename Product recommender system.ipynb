{
 "cells": [
  {
   "cell_type": "code",
   "execution_count": 1,
   "id": "e909fa90",
   "metadata": {},
   "outputs": [],
   "source": [
    "from sklearn.cluster import KMeans\n",
    "import pandas as pd\n",
    "from sklearn.preprocessing import MinMaxScaler\n",
    "from matplotlib import pyplot as plt\n",
    "import numpy as np\n",
    "%matplotlib inline"
   ]
  },
  {
   "cell_type": "code",
   "execution_count": 2,
   "id": "a68bd70d",
   "metadata": {},
   "outputs": [],
   "source": [
    "pd.options.display.max_colwidth = 100"
   ]
  },
  {
   "cell_type": "code",
   "execution_count": 3,
   "id": "c67320bb",
   "metadata": {},
   "outputs": [
    {
     "name": "stdout",
     "output_type": "stream",
     "text": [
      "0    https://m.media-amazon.com/images/I/81eM15lVcJL._AC_UL320_.jpg\n",
      "1    https://m.media-amazon.com/images/I/71AvQd3VzqL._AC_UL320_.jpg\n",
      "2    https://m.media-amazon.com/images/I/51UhwaQXCpL._AC_UL320_.jpg\n",
      "3    https://m.media-amazon.com/images/I/81I3w4J6yjL._AC_UL320_.jpg\n",
      "4    https://m.media-amazon.com/images/I/71V--WZVUIL._AC_UL320_.jpg\n",
      "Name: image, dtype: object\n"
     ]
    }
   ],
   "source": [
    "df = pd.read_csv(\"All Electronics.csv\")\n",
    "print(df.head()[\"image\"])"
   ]
  },
  {
   "cell_type": "code",
   "execution_count": 4,
   "id": "243d2ea7",
   "metadata": {},
   "outputs": [
    {
     "data": {
      "text/html": [
       "<div>\n",
       "<style scoped>\n",
       "    .dataframe tbody tr th:only-of-type {\n",
       "        vertical-align: middle;\n",
       "    }\n",
       "\n",
       "    .dataframe tbody tr th {\n",
       "        vertical-align: top;\n",
       "    }\n",
       "\n",
       "    .dataframe thead th {\n",
       "        text-align: right;\n",
       "    }\n",
       "</style>\n",
       "<table border=\"1\" class=\"dataframe\">\n",
       "  <thead>\n",
       "    <tr style=\"text-align: right;\">\n",
       "      <th></th>\n",
       "      <th>name</th>\n",
       "      <th>main_category</th>\n",
       "      <th>sub_category</th>\n",
       "      <th>image</th>\n",
       "      <th>link</th>\n",
       "      <th>ratings</th>\n",
       "      <th>no_of_ratings</th>\n",
       "      <th>discount_price</th>\n",
       "      <th>actual_price</th>\n",
       "    </tr>\n",
       "  </thead>\n",
       "  <tbody>\n",
       "    <tr>\n",
       "      <th>0</th>\n",
       "      <td>Redmi 10 Power (Power Black, 8GB RAM, 128GB Storage)</td>\n",
       "      <td>tv, audio &amp; cameras</td>\n",
       "      <td>All Electronics</td>\n",
       "      <td>https://m.media-amazon.com/images/I/81eM15lVcJL._AC_UL320_.jpg</td>\n",
       "      <td>https://www.amazon.in/Redmi-Power-Black-128GB-Storage/dp/B09Y64H8VS/ref=sr_1_4?qid=1679133649&amp;s=...</td>\n",
       "      <td>4.0</td>\n",
       "      <td>965</td>\n",
       "      <td>10999.0</td>\n",
       "      <td>₹18,999</td>\n",
       "    </tr>\n",
       "    <tr>\n",
       "      <th>1</th>\n",
       "      <td>OnePlus Nord CE 2 Lite 5G (Blue Tide, 6GB RAM, 128GB Storage)</td>\n",
       "      <td>tv, audio &amp; cameras</td>\n",
       "      <td>All Electronics</td>\n",
       "      <td>https://m.media-amazon.com/images/I/71AvQd3VzqL._AC_UL320_.jpg</td>\n",
       "      <td>https://www.amazon.in/OnePlus-Nord-Lite-128GB-Storage/dp/B09WQYFLRX/ref=sr_1_5?qid=1679133649&amp;s=...</td>\n",
       "      <td>4.3</td>\n",
       "      <td>113,956</td>\n",
       "      <td>18999.0</td>\n",
       "      <td>₹19,999</td>\n",
       "    </tr>\n",
       "    <tr>\n",
       "      <th>2</th>\n",
       "      <td>OnePlus Bullets Z2 Bluetooth Wireless in Ear Earphones with Mic, Bombastic Bass - 12.4 Mm Driver...</td>\n",
       "      <td>tv, audio &amp; cameras</td>\n",
       "      <td>All Electronics</td>\n",
       "      <td>https://m.media-amazon.com/images/I/51UhwaQXCpL._AC_UL320_.jpg</td>\n",
       "      <td>https://www.amazon.in/Oneplus-Bluetooth-Wireless-Earphones-Bombastic/dp/B09TVVGXWS/ref=sr_1_6?qi...</td>\n",
       "      <td>4.2</td>\n",
       "      <td>90,304</td>\n",
       "      <td>1999.0</td>\n",
       "      <td>₹2,299</td>\n",
       "    </tr>\n",
       "    <tr>\n",
       "      <th>3</th>\n",
       "      <td>Samsung Galaxy M33 5G (Mystique Green, 6GB, 128GB Storage) | 6000mAh Battery | Upto 12GB RAM wit...</td>\n",
       "      <td>tv, audio &amp; cameras</td>\n",
       "      <td>All Electronics</td>\n",
       "      <td>https://m.media-amazon.com/images/I/81I3w4J6yjL._AC_UL320_.jpg</td>\n",
       "      <td>https://www.amazon.in/Samsung-Mystique-Storage-Purchased-Separately/dp/B09TWGDY4W/ref=sr_1_7?qid...</td>\n",
       "      <td>4.1</td>\n",
       "      <td>24,863</td>\n",
       "      <td>15999.0</td>\n",
       "      <td>₹24,999</td>\n",
       "    </tr>\n",
       "    <tr>\n",
       "      <th>4</th>\n",
       "      <td>OnePlus Nord CE 2 Lite 5G (Black Dusk, 6GB RAM, 128GB Storage)</td>\n",
       "      <td>tv, audio &amp; cameras</td>\n",
       "      <td>All Electronics</td>\n",
       "      <td>https://m.media-amazon.com/images/I/71V--WZVUIL._AC_UL320_.jpg</td>\n",
       "      <td>https://www.amazon.in/OnePlus-Nord-Black-128GB-Storage/dp/B09WQY65HN/ref=sr_1_8?qid=1679133649&amp;s...</td>\n",
       "      <td>4.3</td>\n",
       "      <td>113,956</td>\n",
       "      <td>18999.0</td>\n",
       "      <td>₹19,999</td>\n",
       "    </tr>\n",
       "  </tbody>\n",
       "</table>\n",
       "</div>"
      ],
      "text/plain": [
       "                                                                                                  name  \\\n",
       "0                                                 Redmi 10 Power (Power Black, 8GB RAM, 128GB Storage)   \n",
       "1                                        OnePlus Nord CE 2 Lite 5G (Blue Tide, 6GB RAM, 128GB Storage)   \n",
       "2  OnePlus Bullets Z2 Bluetooth Wireless in Ear Earphones with Mic, Bombastic Bass - 12.4 Mm Driver...   \n",
       "3  Samsung Galaxy M33 5G (Mystique Green, 6GB, 128GB Storage) | 6000mAh Battery | Upto 12GB RAM wit...   \n",
       "4                                       OnePlus Nord CE 2 Lite 5G (Black Dusk, 6GB RAM, 128GB Storage)   \n",
       "\n",
       "         main_category     sub_category  \\\n",
       "0  tv, audio & cameras  All Electronics   \n",
       "1  tv, audio & cameras  All Electronics   \n",
       "2  tv, audio & cameras  All Electronics   \n",
       "3  tv, audio & cameras  All Electronics   \n",
       "4  tv, audio & cameras  All Electronics   \n",
       "\n",
       "                                                            image  \\\n",
       "0  https://m.media-amazon.com/images/I/81eM15lVcJL._AC_UL320_.jpg   \n",
       "1  https://m.media-amazon.com/images/I/71AvQd3VzqL._AC_UL320_.jpg   \n",
       "2  https://m.media-amazon.com/images/I/51UhwaQXCpL._AC_UL320_.jpg   \n",
       "3  https://m.media-amazon.com/images/I/81I3w4J6yjL._AC_UL320_.jpg   \n",
       "4  https://m.media-amazon.com/images/I/71V--WZVUIL._AC_UL320_.jpg   \n",
       "\n",
       "                                                                                                  link  \\\n",
       "0  https://www.amazon.in/Redmi-Power-Black-128GB-Storage/dp/B09Y64H8VS/ref=sr_1_4?qid=1679133649&s=...   \n",
       "1  https://www.amazon.in/OnePlus-Nord-Lite-128GB-Storage/dp/B09WQYFLRX/ref=sr_1_5?qid=1679133649&s=...   \n",
       "2  https://www.amazon.in/Oneplus-Bluetooth-Wireless-Earphones-Bombastic/dp/B09TVVGXWS/ref=sr_1_6?qi...   \n",
       "3  https://www.amazon.in/Samsung-Mystique-Storage-Purchased-Separately/dp/B09TWGDY4W/ref=sr_1_7?qid...   \n",
       "4  https://www.amazon.in/OnePlus-Nord-Black-128GB-Storage/dp/B09WQY65HN/ref=sr_1_8?qid=1679133649&s...   \n",
       "\n",
       "  ratings no_of_ratings  discount_price actual_price  \n",
       "0     4.0           965         10999.0      ₹18,999  \n",
       "1     4.3       113,956         18999.0      ₹19,999  \n",
       "2     4.2        90,304          1999.0       ₹2,299  \n",
       "3     4.1        24,863         15999.0      ₹24,999  \n",
       "4     4.3       113,956         18999.0      ₹19,999  "
      ]
     },
     "execution_count": 4,
     "metadata": {},
     "output_type": "execute_result"
    }
   ],
   "source": [
    "df['discount_price'] = df['discount_price'].fillna(0)\n",
    "df['discount_price'] = df['discount_price'].str.replace(',', '').str.replace('₹', '').astype(float)\n",
    "# df1['Avg_Annual'] = df1['Avg_Annual'].str.replace(',', '').str.replace('$', '').astype(int)\n",
    "df.head()"
   ]
  },
  {
   "cell_type": "code",
   "execution_count": 5,
   "id": "f630f920",
   "metadata": {},
   "outputs": [
    {
     "data": {
      "text/html": [
       "<div>\n",
       "<style scoped>\n",
       "    .dataframe tbody tr th:only-of-type {\n",
       "        vertical-align: middle;\n",
       "    }\n",
       "\n",
       "    .dataframe tbody tr th {\n",
       "        vertical-align: top;\n",
       "    }\n",
       "\n",
       "    .dataframe thead th {\n",
       "        text-align: right;\n",
       "    }\n",
       "</style>\n",
       "<table border=\"1\" class=\"dataframe\">\n",
       "  <thead>\n",
       "    <tr style=\"text-align: right;\">\n",
       "      <th></th>\n",
       "      <th>name</th>\n",
       "      <th>main_category</th>\n",
       "      <th>sub_category</th>\n",
       "      <th>image</th>\n",
       "      <th>link</th>\n",
       "      <th>ratings</th>\n",
       "      <th>no_of_ratings</th>\n",
       "      <th>discount_price</th>\n",
       "      <th>actual_price</th>\n",
       "    </tr>\n",
       "  </thead>\n",
       "  <tbody>\n",
       "    <tr>\n",
       "      <th>0</th>\n",
       "      <td>Redmi 10 Power (Power Black, 8GB RAM, 128GB Storage)</td>\n",
       "      <td>tv, audio &amp; cameras</td>\n",
       "      <td>All Electronics</td>\n",
       "      <td>https://m.media-amazon.com/images/I/81eM15lVcJL._AC_UL320_.jpg</td>\n",
       "      <td>https://www.amazon.in/Redmi-Power-Black-128GB-Storage/dp/B09Y64H8VS/ref=sr_1_4?qid=1679133649&amp;s=...</td>\n",
       "      <td>4.0</td>\n",
       "      <td>965</td>\n",
       "      <td>10999.0</td>\n",
       "      <td>18999.0</td>\n",
       "    </tr>\n",
       "    <tr>\n",
       "      <th>1</th>\n",
       "      <td>OnePlus Nord CE 2 Lite 5G (Blue Tide, 6GB RAM, 128GB Storage)</td>\n",
       "      <td>tv, audio &amp; cameras</td>\n",
       "      <td>All Electronics</td>\n",
       "      <td>https://m.media-amazon.com/images/I/71AvQd3VzqL._AC_UL320_.jpg</td>\n",
       "      <td>https://www.amazon.in/OnePlus-Nord-Lite-128GB-Storage/dp/B09WQYFLRX/ref=sr_1_5?qid=1679133649&amp;s=...</td>\n",
       "      <td>4.3</td>\n",
       "      <td>113,956</td>\n",
       "      <td>18999.0</td>\n",
       "      <td>19999.0</td>\n",
       "    </tr>\n",
       "    <tr>\n",
       "      <th>2</th>\n",
       "      <td>OnePlus Bullets Z2 Bluetooth Wireless in Ear Earphones with Mic, Bombastic Bass - 12.4 Mm Driver...</td>\n",
       "      <td>tv, audio &amp; cameras</td>\n",
       "      <td>All Electronics</td>\n",
       "      <td>https://m.media-amazon.com/images/I/51UhwaQXCpL._AC_UL320_.jpg</td>\n",
       "      <td>https://www.amazon.in/Oneplus-Bluetooth-Wireless-Earphones-Bombastic/dp/B09TVVGXWS/ref=sr_1_6?qi...</td>\n",
       "      <td>4.2</td>\n",
       "      <td>90,304</td>\n",
       "      <td>1999.0</td>\n",
       "      <td>2299.0</td>\n",
       "    </tr>\n",
       "    <tr>\n",
       "      <th>3</th>\n",
       "      <td>Samsung Galaxy M33 5G (Mystique Green, 6GB, 128GB Storage) | 6000mAh Battery | Upto 12GB RAM wit...</td>\n",
       "      <td>tv, audio &amp; cameras</td>\n",
       "      <td>All Electronics</td>\n",
       "      <td>https://m.media-amazon.com/images/I/81I3w4J6yjL._AC_UL320_.jpg</td>\n",
       "      <td>https://www.amazon.in/Samsung-Mystique-Storage-Purchased-Separately/dp/B09TWGDY4W/ref=sr_1_7?qid...</td>\n",
       "      <td>4.1</td>\n",
       "      <td>24,863</td>\n",
       "      <td>15999.0</td>\n",
       "      <td>24999.0</td>\n",
       "    </tr>\n",
       "    <tr>\n",
       "      <th>4</th>\n",
       "      <td>OnePlus Nord CE 2 Lite 5G (Black Dusk, 6GB RAM, 128GB Storage)</td>\n",
       "      <td>tv, audio &amp; cameras</td>\n",
       "      <td>All Electronics</td>\n",
       "      <td>https://m.media-amazon.com/images/I/71V--WZVUIL._AC_UL320_.jpg</td>\n",
       "      <td>https://www.amazon.in/OnePlus-Nord-Black-128GB-Storage/dp/B09WQY65HN/ref=sr_1_8?qid=1679133649&amp;s...</td>\n",
       "      <td>4.3</td>\n",
       "      <td>113,956</td>\n",
       "      <td>18999.0</td>\n",
       "      <td>19999.0</td>\n",
       "    </tr>\n",
       "  </tbody>\n",
       "</table>\n",
       "</div>"
      ],
      "text/plain": [
       "                                                                                                  name  \\\n",
       "0                                                 Redmi 10 Power (Power Black, 8GB RAM, 128GB Storage)   \n",
       "1                                        OnePlus Nord CE 2 Lite 5G (Blue Tide, 6GB RAM, 128GB Storage)   \n",
       "2  OnePlus Bullets Z2 Bluetooth Wireless in Ear Earphones with Mic, Bombastic Bass - 12.4 Mm Driver...   \n",
       "3  Samsung Galaxy M33 5G (Mystique Green, 6GB, 128GB Storage) | 6000mAh Battery | Upto 12GB RAM wit...   \n",
       "4                                       OnePlus Nord CE 2 Lite 5G (Black Dusk, 6GB RAM, 128GB Storage)   \n",
       "\n",
       "         main_category     sub_category  \\\n",
       "0  tv, audio & cameras  All Electronics   \n",
       "1  tv, audio & cameras  All Electronics   \n",
       "2  tv, audio & cameras  All Electronics   \n",
       "3  tv, audio & cameras  All Electronics   \n",
       "4  tv, audio & cameras  All Electronics   \n",
       "\n",
       "                                                            image  \\\n",
       "0  https://m.media-amazon.com/images/I/81eM15lVcJL._AC_UL320_.jpg   \n",
       "1  https://m.media-amazon.com/images/I/71AvQd3VzqL._AC_UL320_.jpg   \n",
       "2  https://m.media-amazon.com/images/I/51UhwaQXCpL._AC_UL320_.jpg   \n",
       "3  https://m.media-amazon.com/images/I/81I3w4J6yjL._AC_UL320_.jpg   \n",
       "4  https://m.media-amazon.com/images/I/71V--WZVUIL._AC_UL320_.jpg   \n",
       "\n",
       "                                                                                                  link  \\\n",
       "0  https://www.amazon.in/Redmi-Power-Black-128GB-Storage/dp/B09Y64H8VS/ref=sr_1_4?qid=1679133649&s=...   \n",
       "1  https://www.amazon.in/OnePlus-Nord-Lite-128GB-Storage/dp/B09WQYFLRX/ref=sr_1_5?qid=1679133649&s=...   \n",
       "2  https://www.amazon.in/Oneplus-Bluetooth-Wireless-Earphones-Bombastic/dp/B09TVVGXWS/ref=sr_1_6?qi...   \n",
       "3  https://www.amazon.in/Samsung-Mystique-Storage-Purchased-Separately/dp/B09TWGDY4W/ref=sr_1_7?qid...   \n",
       "4  https://www.amazon.in/OnePlus-Nord-Black-128GB-Storage/dp/B09WQY65HN/ref=sr_1_8?qid=1679133649&s...   \n",
       "\n",
       "  ratings no_of_ratings  discount_price  actual_price  \n",
       "0     4.0           965         10999.0       18999.0  \n",
       "1     4.3       113,956         18999.0       19999.0  \n",
       "2     4.2        90,304          1999.0        2299.0  \n",
       "3     4.1        24,863         15999.0       24999.0  \n",
       "4     4.3       113,956         18999.0       19999.0  "
      ]
     },
     "execution_count": 5,
     "metadata": {},
     "output_type": "execute_result"
    }
   ],
   "source": [
    "df['actual_price'] = df['actual_price'].fillna(0)\n",
    "df['actual_price'] = df['actual_price'].str.replace(',', '').str.replace('₹', '').astype(float)\n",
    "df.head()"
   ]
  },
  {
   "cell_type": "code",
   "execution_count": 6,
   "id": "fb9c8269",
   "metadata": {
    "scrolled": true
   },
   "outputs": [
    {
     "data": {
      "text/html": [
       "<div>\n",
       "<style scoped>\n",
       "    .dataframe tbody tr th:only-of-type {\n",
       "        vertical-align: middle;\n",
       "    }\n",
       "\n",
       "    .dataframe tbody tr th {\n",
       "        vertical-align: top;\n",
       "    }\n",
       "\n",
       "    .dataframe thead th {\n",
       "        text-align: right;\n",
       "    }\n",
       "</style>\n",
       "<table border=\"1\" class=\"dataframe\">\n",
       "  <thead>\n",
       "    <tr style=\"text-align: right;\">\n",
       "      <th></th>\n",
       "      <th>name</th>\n",
       "      <th>main_category</th>\n",
       "      <th>sub_category</th>\n",
       "      <th>image</th>\n",
       "      <th>link</th>\n",
       "      <th>ratings</th>\n",
       "      <th>no_of_ratings</th>\n",
       "      <th>discount_price</th>\n",
       "      <th>actual_price</th>\n",
       "    </tr>\n",
       "  </thead>\n",
       "  <tbody>\n",
       "    <tr>\n",
       "      <th>0</th>\n",
       "      <td>Redmi 10 Power (Power Black, 8GB RAM, 128GB Storage)</td>\n",
       "      <td>tv, audio &amp; cameras</td>\n",
       "      <td>All Electronics</td>\n",
       "      <td>https://m.media-amazon.com/images/I/81eM15lVcJL._AC_UL320_.jpg</td>\n",
       "      <td>https://www.amazon.in/Redmi-Power-Black-128GB-Storage/dp/B09Y64H8VS/ref=sr_1_4?qid=1679133649&amp;s=...</td>\n",
       "      <td>4.0</td>\n",
       "      <td>965.0</td>\n",
       "      <td>10999.0</td>\n",
       "      <td>18999.0</td>\n",
       "    </tr>\n",
       "    <tr>\n",
       "      <th>1</th>\n",
       "      <td>OnePlus Nord CE 2 Lite 5G (Blue Tide, 6GB RAM, 128GB Storage)</td>\n",
       "      <td>tv, audio &amp; cameras</td>\n",
       "      <td>All Electronics</td>\n",
       "      <td>https://m.media-amazon.com/images/I/71AvQd3VzqL._AC_UL320_.jpg</td>\n",
       "      <td>https://www.amazon.in/OnePlus-Nord-Lite-128GB-Storage/dp/B09WQYFLRX/ref=sr_1_5?qid=1679133649&amp;s=...</td>\n",
       "      <td>4.3</td>\n",
       "      <td>113956.0</td>\n",
       "      <td>18999.0</td>\n",
       "      <td>19999.0</td>\n",
       "    </tr>\n",
       "    <tr>\n",
       "      <th>2</th>\n",
       "      <td>OnePlus Bullets Z2 Bluetooth Wireless in Ear Earphones with Mic, Bombastic Bass - 12.4 Mm Driver...</td>\n",
       "      <td>tv, audio &amp; cameras</td>\n",
       "      <td>All Electronics</td>\n",
       "      <td>https://m.media-amazon.com/images/I/51UhwaQXCpL._AC_UL320_.jpg</td>\n",
       "      <td>https://www.amazon.in/Oneplus-Bluetooth-Wireless-Earphones-Bombastic/dp/B09TVVGXWS/ref=sr_1_6?qi...</td>\n",
       "      <td>4.2</td>\n",
       "      <td>90304.0</td>\n",
       "      <td>1999.0</td>\n",
       "      <td>2299.0</td>\n",
       "    </tr>\n",
       "    <tr>\n",
       "      <th>3</th>\n",
       "      <td>Samsung Galaxy M33 5G (Mystique Green, 6GB, 128GB Storage) | 6000mAh Battery | Upto 12GB RAM wit...</td>\n",
       "      <td>tv, audio &amp; cameras</td>\n",
       "      <td>All Electronics</td>\n",
       "      <td>https://m.media-amazon.com/images/I/81I3w4J6yjL._AC_UL320_.jpg</td>\n",
       "      <td>https://www.amazon.in/Samsung-Mystique-Storage-Purchased-Separately/dp/B09TWGDY4W/ref=sr_1_7?qid...</td>\n",
       "      <td>4.1</td>\n",
       "      <td>24863.0</td>\n",
       "      <td>15999.0</td>\n",
       "      <td>24999.0</td>\n",
       "    </tr>\n",
       "    <tr>\n",
       "      <th>4</th>\n",
       "      <td>OnePlus Nord CE 2 Lite 5G (Black Dusk, 6GB RAM, 128GB Storage)</td>\n",
       "      <td>tv, audio &amp; cameras</td>\n",
       "      <td>All Electronics</td>\n",
       "      <td>https://m.media-amazon.com/images/I/71V--WZVUIL._AC_UL320_.jpg</td>\n",
       "      <td>https://www.amazon.in/OnePlus-Nord-Black-128GB-Storage/dp/B09WQY65HN/ref=sr_1_8?qid=1679133649&amp;s...</td>\n",
       "      <td>4.3</td>\n",
       "      <td>113956.0</td>\n",
       "      <td>18999.0</td>\n",
       "      <td>19999.0</td>\n",
       "    </tr>\n",
       "  </tbody>\n",
       "</table>\n",
       "</div>"
      ],
      "text/plain": [
       "                                                                                                  name  \\\n",
       "0                                                 Redmi 10 Power (Power Black, 8GB RAM, 128GB Storage)   \n",
       "1                                        OnePlus Nord CE 2 Lite 5G (Blue Tide, 6GB RAM, 128GB Storage)   \n",
       "2  OnePlus Bullets Z2 Bluetooth Wireless in Ear Earphones with Mic, Bombastic Bass - 12.4 Mm Driver...   \n",
       "3  Samsung Galaxy M33 5G (Mystique Green, 6GB, 128GB Storage) | 6000mAh Battery | Upto 12GB RAM wit...   \n",
       "4                                       OnePlus Nord CE 2 Lite 5G (Black Dusk, 6GB RAM, 128GB Storage)   \n",
       "\n",
       "         main_category     sub_category  \\\n",
       "0  tv, audio & cameras  All Electronics   \n",
       "1  tv, audio & cameras  All Electronics   \n",
       "2  tv, audio & cameras  All Electronics   \n",
       "3  tv, audio & cameras  All Electronics   \n",
       "4  tv, audio & cameras  All Electronics   \n",
       "\n",
       "                                                            image  \\\n",
       "0  https://m.media-amazon.com/images/I/81eM15lVcJL._AC_UL320_.jpg   \n",
       "1  https://m.media-amazon.com/images/I/71AvQd3VzqL._AC_UL320_.jpg   \n",
       "2  https://m.media-amazon.com/images/I/51UhwaQXCpL._AC_UL320_.jpg   \n",
       "3  https://m.media-amazon.com/images/I/81I3w4J6yjL._AC_UL320_.jpg   \n",
       "4  https://m.media-amazon.com/images/I/71V--WZVUIL._AC_UL320_.jpg   \n",
       "\n",
       "                                                                                                  link  \\\n",
       "0  https://www.amazon.in/Redmi-Power-Black-128GB-Storage/dp/B09Y64H8VS/ref=sr_1_4?qid=1679133649&s=...   \n",
       "1  https://www.amazon.in/OnePlus-Nord-Lite-128GB-Storage/dp/B09WQYFLRX/ref=sr_1_5?qid=1679133649&s=...   \n",
       "2  https://www.amazon.in/Oneplus-Bluetooth-Wireless-Earphones-Bombastic/dp/B09TVVGXWS/ref=sr_1_6?qi...   \n",
       "3  https://www.amazon.in/Samsung-Mystique-Storage-Purchased-Separately/dp/B09TWGDY4W/ref=sr_1_7?qid...   \n",
       "4  https://www.amazon.in/OnePlus-Nord-Black-128GB-Storage/dp/B09WQY65HN/ref=sr_1_8?qid=1679133649&s...   \n",
       "\n",
       "  ratings  no_of_ratings  discount_price  actual_price  \n",
       "0     4.0          965.0         10999.0       18999.0  \n",
       "1     4.3       113956.0         18999.0       19999.0  \n",
       "2     4.2        90304.0          1999.0        2299.0  \n",
       "3     4.1        24863.0         15999.0       24999.0  \n",
       "4     4.3       113956.0         18999.0       19999.0  "
      ]
     },
     "execution_count": 6,
     "metadata": {},
     "output_type": "execute_result"
    }
   ],
   "source": [
    "df['no_of_ratings'] = df['no_of_ratings'].fillna(0)\n",
    "df['no_of_ratings'] = df['no_of_ratings'].str.replace(',', '').str.replace('₹', '').str.replace('FREE Delivery by Amazon', '0').astype(float)\n",
    "df.head()"
   ]
  },
  {
   "cell_type": "code",
   "execution_count": 7,
   "id": "ede963ab",
   "metadata": {},
   "outputs": [
    {
     "data": {
      "text/html": [
       "<div>\n",
       "<style scoped>\n",
       "    .dataframe tbody tr th:only-of-type {\n",
       "        vertical-align: middle;\n",
       "    }\n",
       "\n",
       "    .dataframe tbody tr th {\n",
       "        vertical-align: top;\n",
       "    }\n",
       "\n",
       "    .dataframe thead th {\n",
       "        text-align: right;\n",
       "    }\n",
       "</style>\n",
       "<table border=\"1\" class=\"dataframe\">\n",
       "  <thead>\n",
       "    <tr style=\"text-align: right;\">\n",
       "      <th></th>\n",
       "      <th>name</th>\n",
       "      <th>main_category</th>\n",
       "      <th>sub_category</th>\n",
       "      <th>image</th>\n",
       "      <th>link</th>\n",
       "      <th>ratings</th>\n",
       "      <th>no_of_ratings</th>\n",
       "      <th>discount_price</th>\n",
       "      <th>actual_price</th>\n",
       "    </tr>\n",
       "  </thead>\n",
       "  <tbody>\n",
       "    <tr>\n",
       "      <th>0</th>\n",
       "      <td>Redmi 10 Power (Power Black, 8GB RAM, 128GB Storage)</td>\n",
       "      <td>tv, audio &amp; cameras</td>\n",
       "      <td>All Electronics</td>\n",
       "      <td>https://m.media-amazon.com/images/I/81eM15lVcJL._AC_UL320_.jpg</td>\n",
       "      <td>https://www.amazon.in/Redmi-Power-Black-128GB-Storage/dp/B09Y64H8VS/ref=sr_1_4?qid=1679133649&amp;s=...</td>\n",
       "      <td>4.0</td>\n",
       "      <td>965.0</td>\n",
       "      <td>10999.0</td>\n",
       "      <td>18999.0</td>\n",
       "    </tr>\n",
       "    <tr>\n",
       "      <th>1</th>\n",
       "      <td>OnePlus Nord CE 2 Lite 5G (Blue Tide, 6GB RAM, 128GB Storage)</td>\n",
       "      <td>tv, audio &amp; cameras</td>\n",
       "      <td>All Electronics</td>\n",
       "      <td>https://m.media-amazon.com/images/I/71AvQd3VzqL._AC_UL320_.jpg</td>\n",
       "      <td>https://www.amazon.in/OnePlus-Nord-Lite-128GB-Storage/dp/B09WQYFLRX/ref=sr_1_5?qid=1679133649&amp;s=...</td>\n",
       "      <td>4.3</td>\n",
       "      <td>113956.0</td>\n",
       "      <td>18999.0</td>\n",
       "      <td>19999.0</td>\n",
       "    </tr>\n",
       "    <tr>\n",
       "      <th>2</th>\n",
       "      <td>OnePlus Bullets Z2 Bluetooth Wireless in Ear Earphones with Mic, Bombastic Bass - 12.4 Mm Driver...</td>\n",
       "      <td>tv, audio &amp; cameras</td>\n",
       "      <td>All Electronics</td>\n",
       "      <td>https://m.media-amazon.com/images/I/51UhwaQXCpL._AC_UL320_.jpg</td>\n",
       "      <td>https://www.amazon.in/Oneplus-Bluetooth-Wireless-Earphones-Bombastic/dp/B09TVVGXWS/ref=sr_1_6?qi...</td>\n",
       "      <td>4.2</td>\n",
       "      <td>90304.0</td>\n",
       "      <td>1999.0</td>\n",
       "      <td>2299.0</td>\n",
       "    </tr>\n",
       "    <tr>\n",
       "      <th>3</th>\n",
       "      <td>Samsung Galaxy M33 5G (Mystique Green, 6GB, 128GB Storage) | 6000mAh Battery | Upto 12GB RAM wit...</td>\n",
       "      <td>tv, audio &amp; cameras</td>\n",
       "      <td>All Electronics</td>\n",
       "      <td>https://m.media-amazon.com/images/I/81I3w4J6yjL._AC_UL320_.jpg</td>\n",
       "      <td>https://www.amazon.in/Samsung-Mystique-Storage-Purchased-Separately/dp/B09TWGDY4W/ref=sr_1_7?qid...</td>\n",
       "      <td>4.1</td>\n",
       "      <td>24863.0</td>\n",
       "      <td>15999.0</td>\n",
       "      <td>24999.0</td>\n",
       "    </tr>\n",
       "    <tr>\n",
       "      <th>4</th>\n",
       "      <td>OnePlus Nord CE 2 Lite 5G (Black Dusk, 6GB RAM, 128GB Storage)</td>\n",
       "      <td>tv, audio &amp; cameras</td>\n",
       "      <td>All Electronics</td>\n",
       "      <td>https://m.media-amazon.com/images/I/71V--WZVUIL._AC_UL320_.jpg</td>\n",
       "      <td>https://www.amazon.in/OnePlus-Nord-Black-128GB-Storage/dp/B09WQY65HN/ref=sr_1_8?qid=1679133649&amp;s...</td>\n",
       "      <td>4.3</td>\n",
       "      <td>113956.0</td>\n",
       "      <td>18999.0</td>\n",
       "      <td>19999.0</td>\n",
       "    </tr>\n",
       "  </tbody>\n",
       "</table>\n",
       "</div>"
      ],
      "text/plain": [
       "                                                                                                  name  \\\n",
       "0                                                 Redmi 10 Power (Power Black, 8GB RAM, 128GB Storage)   \n",
       "1                                        OnePlus Nord CE 2 Lite 5G (Blue Tide, 6GB RAM, 128GB Storage)   \n",
       "2  OnePlus Bullets Z2 Bluetooth Wireless in Ear Earphones with Mic, Bombastic Bass - 12.4 Mm Driver...   \n",
       "3  Samsung Galaxy M33 5G (Mystique Green, 6GB, 128GB Storage) | 6000mAh Battery | Upto 12GB RAM wit...   \n",
       "4                                       OnePlus Nord CE 2 Lite 5G (Black Dusk, 6GB RAM, 128GB Storage)   \n",
       "\n",
       "         main_category     sub_category  \\\n",
       "0  tv, audio & cameras  All Electronics   \n",
       "1  tv, audio & cameras  All Electronics   \n",
       "2  tv, audio & cameras  All Electronics   \n",
       "3  tv, audio & cameras  All Electronics   \n",
       "4  tv, audio & cameras  All Electronics   \n",
       "\n",
       "                                                            image  \\\n",
       "0  https://m.media-amazon.com/images/I/81eM15lVcJL._AC_UL320_.jpg   \n",
       "1  https://m.media-amazon.com/images/I/71AvQd3VzqL._AC_UL320_.jpg   \n",
       "2  https://m.media-amazon.com/images/I/51UhwaQXCpL._AC_UL320_.jpg   \n",
       "3  https://m.media-amazon.com/images/I/81I3w4J6yjL._AC_UL320_.jpg   \n",
       "4  https://m.media-amazon.com/images/I/71V--WZVUIL._AC_UL320_.jpg   \n",
       "\n",
       "                                                                                                  link  \\\n",
       "0  https://www.amazon.in/Redmi-Power-Black-128GB-Storage/dp/B09Y64H8VS/ref=sr_1_4?qid=1679133649&s=...   \n",
       "1  https://www.amazon.in/OnePlus-Nord-Lite-128GB-Storage/dp/B09WQYFLRX/ref=sr_1_5?qid=1679133649&s=...   \n",
       "2  https://www.amazon.in/Oneplus-Bluetooth-Wireless-Earphones-Bombastic/dp/B09TVVGXWS/ref=sr_1_6?qi...   \n",
       "3  https://www.amazon.in/Samsung-Mystique-Storage-Purchased-Separately/dp/B09TWGDY4W/ref=sr_1_7?qid...   \n",
       "4  https://www.amazon.in/OnePlus-Nord-Black-128GB-Storage/dp/B09WQY65HN/ref=sr_1_8?qid=1679133649&s...   \n",
       "\n",
       "   ratings  no_of_ratings  discount_price  actual_price  \n",
       "0      4.0          965.0         10999.0       18999.0  \n",
       "1      4.3       113956.0         18999.0       19999.0  \n",
       "2      4.2        90304.0          1999.0        2299.0  \n",
       "3      4.1        24863.0         15999.0       24999.0  \n",
       "4      4.3       113956.0         18999.0       19999.0  "
      ]
     },
     "execution_count": 7,
     "metadata": {},
     "output_type": "execute_result"
    }
   ],
   "source": [
    "df['ratings'] = df['ratings'].fillna(0)\n",
    "df['ratings'] = df['ratings'].str.replace(',', '').str.replace('₹', '').str.replace('Get', '0').astype(float)\n",
    "df.head()"
   ]
  },
  {
   "cell_type": "code",
   "execution_count": 8,
   "id": "61c97fc0",
   "metadata": {},
   "outputs": [
    {
     "data": {
      "text/plain": [
       "(9600, 9)"
      ]
     },
     "execution_count": 8,
     "metadata": {},
     "output_type": "execute_result"
    }
   ],
   "source": [
    "df.shape"
   ]
  },
  {
   "cell_type": "code",
   "execution_count": 9,
   "id": "6e65c136",
   "metadata": {},
   "outputs": [
    {
     "name": "stdout",
     "output_type": "stream",
     "text": [
      "<class 'pandas.core.series.Series'> <class 'pandas.core.series.Series'>\n"
     ]
    },
    {
     "data": {
      "image/png": "[encoded data removed]",
      "text/plain": [
       "<Figure size 640x480 with 1 Axes>"
      ]
     },
     "metadata": {},
     "output_type": "display_data"
    }
   ],
   "source": [
    "plt.scatter(df['ratings'],df['no_of_ratings'])\n",
    "plt.xlabel('ratings')\n",
    "plt.ylabel('no_of_ratings')\n",
    "print(type(df['ratings']), type(df['no_of_ratings']))"
   ]
  },
  {
   "cell_type": "code",
   "execution_count": 10,
   "id": "1631e864",
   "metadata": {},
   "outputs": [],
   "source": [
    "df['ratings'] = df['ratings'].fillna(0)\n",
    "df['no_of_ratings'] = df['no_of_ratings'].fillna(0)\n",
    "df['discount_price'] = df['discount_price'].fillna(0)\n",
    "df['actual_price'] = df['actual_price'].fillna(0)"
   ]
  },
  {
   "cell_type": "code",
   "execution_count": 11,
   "id": "aeb1721f",
   "metadata": {},
   "outputs": [],
   "source": [
    "scaler = MinMaxScaler()\n",
    "\n",
    "scaler.fit(df[['ratings']])\n",
    "df['ratings'] = scaler.transform(df[['ratings']])\n",
    "\n",
    "scaler.fit(df[['no_of_ratings']])\n",
    "df['no_of_ratings'] = scaler.transform(df[['no_of_ratings']])\n",
    "\n",
    "scaler.fit(df[['discount_price']])\n",
    "df['discount_price'] = scaler.transform(df[['discount_price']])\n",
    "\n",
    "scaler.fit(df[['actual_price']])\n",
    "df['actual_price'] = scaler.transform(df[['actual_price']])"
   ]
  },
  {
   "cell_type": "code",
   "execution_count": null,
   "id": "feb99a23",
   "metadata": {},
   "outputs": [],
   "source": []
  },
  {
   "cell_type": "code",
   "execution_count": 12,
   "id": "8ab635a3",
   "metadata": {},
   "outputs": [],
   "source": [
    "\n",
    "sse = []\n",
    "k_rng = range(1,10)\n",
    "for k in k_rng:\n",
    "    km = KMeans(n_clusters=k)\n",
    "    km.fit(df[['ratings', 'no_of_ratings', 'discount_price', 'actual_price']])\n",
    "    sse.append(km.inertia_)"
   ]
  },
  {
   "cell_type": "code",
   "execution_count": 13,
   "id": "54d9954f",
   "metadata": {},
   "outputs": [
    {
     "data": {
      "text/plain": [
       "[<matplotlib.lines.Line2D at 0x2531a9299d0>]"
      ]
     },
     "execution_count": 13,
     "metadata": {},
     "output_type": "execute_result"
    },
    {
     "data": {
      "image/png": "[encoded data removed]",
      "text/plain": [
       "<Figure size 640x480 with 1 Axes>"
      ]
     },
     "metadata": {},
     "output_type": "display_data"
    }
   ],
   "source": [
    "plt.xlabel('K')\n",
    "plt.ylabel('Sum of squared error')\n",
    "plt.plot(k_rng,sse)"
   ]
  },
  {
   "cell_type": "code",
   "execution_count": 14,
   "id": "39f45b5d",
   "metadata": {},
   "outputs": [
    {
     "data": {
      "text/plain": [
       "array([0, 4, 4, ..., 3, 3, 0])"
      ]
     },
     "execution_count": 14,
     "metadata": {},
     "output_type": "execute_result"
    }
   ],
   "source": [
    "km = KMeans(n_clusters=5)\n",
    "y_predicted = km.fit_predict(df[['ratings', 'no_of_ratings', 'discount_price', 'actual_price']])\n",
    "y_predicted"
   ]
  },
  {
   "cell_type": "code",
   "execution_count": 15,
   "id": "aff23dd2",
   "metadata": {},
   "outputs": [
    {
     "data": {
      "text/html": [
       "<div>\n",
       "<style scoped>\n",
       "    .dataframe tbody tr th:only-of-type {\n",
       "        vertical-align: middle;\n",
       "    }\n",
       "\n",
       "    .dataframe tbody tr th {\n",
       "        vertical-align: top;\n",
       "    }\n",
       "\n",
       "    .dataframe thead th {\n",
       "        text-align: right;\n",
       "    }\n",
       "</style>\n",
       "<table border=\"1\" class=\"dataframe\">\n",
       "  <thead>\n",
       "    <tr style=\"text-align: right;\">\n",
       "      <th></th>\n",
       "      <th>name</th>\n",
       "      <th>main_category</th>\n",
       "      <th>sub_category</th>\n",
       "      <th>image</th>\n",
       "      <th>link</th>\n",
       "      <th>ratings</th>\n",
       "      <th>no_of_ratings</th>\n",
       "      <th>discount_price</th>\n",
       "      <th>actual_price</th>\n",
       "      <th>cluster</th>\n",
       "    </tr>\n",
       "  </thead>\n",
       "  <tbody>\n",
       "    <tr>\n",
       "      <th>0</th>\n",
       "      <td>Redmi 10 Power (Power Black, 8GB RAM, 128GB Storage)</td>\n",
       "      <td>tv, audio &amp; cameras</td>\n",
       "      <td>All Electronics</td>\n",
       "      <td>https://m.media-amazon.com/images/I/81eM15lVcJL._AC_UL320_.jpg</td>\n",
       "      <td>https://www.amazon.in/Redmi-Power-Black-128GB-Storage/dp/B09Y64H8VS/ref=sr_1_4?qid=1679133649&amp;s=...</td>\n",
       "      <td>0.80</td>\n",
       "      <td>0.002205</td>\n",
       "      <td>0.081475</td>\n",
       "      <td>0.117279</td>\n",
       "      <td>0</td>\n",
       "    </tr>\n",
       "    <tr>\n",
       "      <th>5651</th>\n",
       "      <td>rts RFID Blocking Credit Card Holder Credit/Debit/ATM/Business Visiting Name Wallet ID Protector...</td>\n",
       "      <td>tv, audio &amp; cameras</td>\n",
       "      <td>All Electronics</td>\n",
       "      <td>https://m.media-amazon.com/images/I/61VC1RoGEXL._AC_UL320_.jpg</td>\n",
       "      <td>https://www.amazon.in/rts-Card-Holder-Magnetic-Visiting/dp/B0832P2FRN/ref=sr_1_5654?qid=16791340...</td>\n",
       "      <td>0.88</td>\n",
       "      <td>0.001008</td>\n",
       "      <td>0.001696</td>\n",
       "      <td>0.012340</td>\n",
       "      <td>0</td>\n",
       "    </tr>\n",
       "    <tr>\n",
       "      <th>5650</th>\n",
       "      <td>Spigen Sand Blast Back Cover Case Compatible with Samsung Galaxy A23 LTE and A23 5G (TPU | Matte...</td>\n",
       "      <td>tv, audio &amp; cameras</td>\n",
       "      <td>All Electronics</td>\n",
       "      <td>https://m.media-amazon.com/images/I/81MrQoCN5VL._AC_UL320_.jpg</td>\n",
       "      <td>https://www.amazon.in/Spigen-Blast-Compatible-Samsung-Galaxy/dp/B0BQLYQYS1/ref=sr_1_5653?qid=167...</td>\n",
       "      <td>0.88</td>\n",
       "      <td>0.000018</td>\n",
       "      <td>0.004437</td>\n",
       "      <td>0.004932</td>\n",
       "      <td>0</td>\n",
       "    </tr>\n",
       "    <tr>\n",
       "      <th>5649</th>\n",
       "      <td>TheGiftKart Rugged Carbon Fibre TPU Armor Back Cover Case for Samsung Galaxy M21 / M21 2021 Edit...</td>\n",
       "      <td>tv, audio &amp; cameras</td>\n",
       "      <td>All Electronics</td>\n",
       "      <td>https://m.media-amazon.com/images/I/61+OXNKZKrL._AC_UL320_.jpg</td>\n",
       "      <td>https://www.amazon.in/TheGiftKart-Samsung-Galaxy-M21-M30s/dp/B07Y1YG8W1/ref=sr_1_5652?qid=167913...</td>\n",
       "      <td>0.88</td>\n",
       "      <td>0.007732</td>\n",
       "      <td>0.002215</td>\n",
       "      <td>0.006167</td>\n",
       "      <td>0</td>\n",
       "    </tr>\n",
       "    <tr>\n",
       "      <th>5648</th>\n",
       "      <td>Western Digital WD 4TB My Passport Portable Hard Disk Drive,Compatible with Windows and Mac, Ext...</td>\n",
       "      <td>tv, audio &amp; cameras</td>\n",
       "      <td>All Electronics</td>\n",
       "      <td>https://m.media-amazon.com/images/I/51CDEElxPFL._AC_UL320_.jpg</td>\n",
       "      <td>https://www.amazon.in/Passport-Portable-External-Drive-Black/dp/B07VTW2LPX/ref=sr_1_5651?qid=167...</td>\n",
       "      <td>0.88</td>\n",
       "      <td>0.170362</td>\n",
       "      <td>0.064438</td>\n",
       "      <td>0.069136</td>\n",
       "      <td>0</td>\n",
       "    </tr>\n",
       "  </tbody>\n",
       "</table>\n",
       "</div>"
      ],
      "text/plain": [
       "                                                                                                     name  \\\n",
       "0                                                    Redmi 10 Power (Power Black, 8GB RAM, 128GB Storage)   \n",
       "5651  rts RFID Blocking Credit Card Holder Credit/Debit/ATM/Business Visiting Name Wallet ID Protector...   \n",
       "5650  Spigen Sand Blast Back Cover Case Compatible with Samsung Galaxy A23 LTE and A23 5G (TPU | Matte...   \n",
       "5649  TheGiftKart Rugged Carbon Fibre TPU Armor Back Cover Case for Samsung Galaxy M21 / M21 2021 Edit...   \n",
       "5648  Western Digital WD 4TB My Passport Portable Hard Disk Drive,Compatible with Windows and Mac, Ext...   \n",
       "\n",
       "            main_category     sub_category  \\\n",
       "0     tv, audio & cameras  All Electronics   \n",
       "5651  tv, audio & cameras  All Electronics   \n",
       "5650  tv, audio & cameras  All Electronics   \n",
       "5649  tv, audio & cameras  All Electronics   \n",
       "5648  tv, audio & cameras  All Electronics   \n",
       "\n",
       "                                                               image  \\\n",
       "0     https://m.media-amazon.com/images/I/81eM15lVcJL._AC_UL320_.jpg   \n",
       "5651  https://m.media-amazon.com/images/I/61VC1RoGEXL._AC_UL320_.jpg   \n",
       "5650  https://m.media-amazon.com/images/I/81MrQoCN5VL._AC_UL320_.jpg   \n",
       "5649  https://m.media-amazon.com/images/I/61+OXNKZKrL._AC_UL320_.jpg   \n",
       "5648  https://m.media-amazon.com/images/I/51CDEElxPFL._AC_UL320_.jpg   \n",
       "\n",
       "                                                                                                     link  \\\n",
       "0     https://www.amazon.in/Redmi-Power-Black-128GB-Storage/dp/B09Y64H8VS/ref=sr_1_4?qid=1679133649&s=...   \n",
       "5651  https://www.amazon.in/rts-Card-Holder-Magnetic-Visiting/dp/B0832P2FRN/ref=sr_1_5654?qid=16791340...   \n",
       "5650  https://www.amazon.in/Spigen-Blast-Compatible-Samsung-Galaxy/dp/B0BQLYQYS1/ref=sr_1_5653?qid=167...   \n",
       "5649  https://www.amazon.in/TheGiftKart-Samsung-Galaxy-M21-M30s/dp/B07Y1YG8W1/ref=sr_1_5652?qid=167913...   \n",
       "5648  https://www.amazon.in/Passport-Portable-External-Drive-Black/dp/B07VTW2LPX/ref=sr_1_5651?qid=167...   \n",
       "\n",
       "      ratings  no_of_ratings  discount_price  actual_price  cluster  \n",
       "0        0.80       0.002205        0.081475      0.117279        0  \n",
       "5651     0.88       0.001008        0.001696      0.012340        0  \n",
       "5650     0.88       0.000018        0.004437      0.004932        0  \n",
       "5649     0.88       0.007732        0.002215      0.006167        0  \n",
       "5648     0.88       0.170362        0.064438      0.069136        0  "
      ]
     },
     "execution_count": 15,
     "metadata": {},
     "output_type": "execute_result"
    }
   ],
   "source": [
    "df['cluster']=y_predicted\n",
    "df = df.sort_values(by=['cluster'])\n",
    "df.head()"
   ]
  },
  {
   "cell_type": "code",
   "execution_count": 16,
   "id": "b464be34",
   "metadata": {},
   "outputs": [
    {
     "data": {
      "text/plain": [
       "array([[8.52726979e-01, 1.41544607e-02, 1.20529885e-02, 1.98469722e-02],\n",
       "       [8.37209302e-01, 1.05950788e-02, 3.03394520e-01, 3.73664319e-01],\n",
       "       [2.82089552e-02, 8.86687570e-07, 2.36194674e-02, 3.75115638e-02],\n",
       "       [7.31694977e-01, 9.18331689e-03, 1.04229877e-02, 1.79679182e-02],\n",
       "       [8.32403846e-01, 3.66246109e-01, 1.46254274e-02, 2.23011793e-02]])"
      ]
     },
     "execution_count": 16,
     "metadata": {},
     "output_type": "execute_result"
    }
   ],
   "source": [
    "km.cluster_centers_"
   ]
  },
  {
   "cell_type": "code",
   "execution_count": 17,
   "id": "06ad86c6",
   "metadata": {},
   "outputs": [
    {
     "data": {
      "text/plain": [
       "Index(['name', 'main_category', 'sub_category', 'image', 'link', 'ratings',\n",
       "       'no_of_ratings', 'discount_price', 'actual_price', 'cluster'],\n",
       "      dtype='object')"
      ]
     },
     "execution_count": 17,
     "metadata": {},
     "output_type": "execute_result"
    }
   ],
   "source": [
    "df.columns"
   ]
  },
  {
   "cell_type": "code",
   "execution_count": 18,
   "id": "abf57648",
   "metadata": {},
   "outputs": [
    {
     "data": {
      "text/plain": [
       "<matplotlib.legend.Legend at 0x2531a9d46a0>"
      ]
     },
     "execution_count": 18,
     "metadata": {},
     "output_type": "execute_result"
    },
    {
     "data": {
      "image/png": "[encoded data removed]",
      "text/plain": [
       "<Figure size 640x480 with 1 Axes>"
      ]
     },
     "metadata": {},
     "output_type": "display_data"
    }
   ],
   "source": [
    "df1 = df[df.cluster==0]\n",
    "df2 = df[df.cluster==1]\n",
    "df3 = df[df.cluster==2]\n",
    "df4 = df[df.cluster==3]\n",
    "df5 = df[df.cluster==4]\n",
    "plt.scatter(df1['ratings'],df1['no_of_ratings'])\n",
    "plt.scatter(df2['ratings'],df2['no_of_ratings'])\n",
    "plt.scatter(df3['ratings'],df3['no_of_ratings'])\n",
    "plt.scatter(df4['ratings'],df4['no_of_ratings'])\n",
    "plt.scatter(df5['ratings'],df5['no_of_ratings'])\n",
    "plt.scatter(km.cluster_centers_[:,0],km.cluster_centers_[:,1],color='purple',marker='*',label='centroid')\n",
    "plt.legend()"
   ]
  },
  {
   "cell_type": "code",
   "execution_count": 19,
   "id": "0c5ba015",
   "metadata": {},
   "outputs": [
    {
     "data": {
      "text/plain": [
       "KMeans(n_clusters=5)"
      ]
     },
     "execution_count": 19,
     "metadata": {},
     "output_type": "execute_result"
    }
   ],
   "source": [
    "km\n"
   ]
  },
  {
   "cell_type": "code",
   "execution_count": 20,
   "id": "59fd47d6",
   "metadata": {},
   "outputs": [
    {
     "data": {
      "text/plain": [
       "0    6190\n",
       "3    2767\n",
       "1     301\n",
       "4     208\n",
       "2     134\n",
       "Name: kmean, dtype: int64"
      ]
     },
     "execution_count": 20,
     "metadata": {},
     "output_type": "execute_result"
    }
   ],
   "source": [
    "dataframe = pd.DataFrame()\n",
    "dataframe['kmean'] = km.labels_\n",
    "dataframe['kmean'].value_counts()"
   ]
  },
  {
   "cell_type": "code",
   "execution_count": 21,
   "id": "b8ec4850",
   "metadata": {},
   "outputs": [],
   "source": [
    "from sklearn.model_selection import train_test_split"
   ]
  },
  {
   "cell_type": "code",
   "execution_count": 22,
   "id": "1748cc50",
   "metadata": {},
   "outputs": [],
   "source": [
    "X = df[['ratings','no_of_ratings', 'discount_price', 'actual_price']]\n",
    "y = df.cluster"
   ]
  },
  {
   "cell_type": "code",
   "execution_count": 23,
   "id": "5a6b6b13",
   "metadata": {},
   "outputs": [],
   "source": [
    "X_train, X_test, y_train, y_test = train_test_split(X, y, test_size=0.2, random_state=1)"
   ]
  },
  {
   "cell_type": "code",
   "execution_count": 24,
   "id": "ab942172",
   "metadata": {},
   "outputs": [
    {
     "name": "stdout",
     "output_type": "stream",
     "text": [
      "0.9989583333333333\n",
      "[4]\n",
      "0\n"
     ]
    },
    {
     "name": "stderr",
     "output_type": "stream",
     "text": [
      "C:\\Users\\HP\\anaconda3\\lib\\site-packages\\sklearn\\neighbors\\_classification.py:228: FutureWarning: Unlike other reduction functions (e.g. `skew`, `kurtosis`), the default behavior of `mode` typically preserves the axis it acts along. In SciPy 1.11.0, this behavior will change: the default value of `keepdims` will become False, the `axis` over which the statistic is taken will be eliminated, and the value None will no longer be accepted. Set `keepdims` to True or False to avoid this warning.\n",
      "  mode, _ = stats.mode(_y[neigh_ind, k], axis=1)\n",
      "C:\\Users\\HP\\anaconda3\\lib\\site-packages\\sklearn\\base.py:450: UserWarning: X does not have valid feature names, but KNeighborsClassifier was fitted with feature names\n",
      "  warnings.warn(\n",
      "C:\\Users\\HP\\anaconda3\\lib\\site-packages\\sklearn\\neighbors\\_classification.py:228: FutureWarning: Unlike other reduction functions (e.g. `skew`, `kurtosis`), the default behavior of `mode` typically preserves the axis it acts along. In SciPy 1.11.0, this behavior will change: the default value of `keepdims` will become False, the `axis` over which the statistic is taken will be eliminated, and the value None will no longer be accepted. Set `keepdims` to True or False to avoid this warning.\n",
      "  mode, _ = stats.mode(_y[neigh_ind, k], axis=1)\n"
     ]
    }
   ],
   "source": [
    "from sklearn.neighbors import KNeighborsClassifier\n",
    "knn = KNeighborsClassifier(n_neighbors=13)\n",
    "knn.fit(X, y)\n",
    "print(knn.score(X_test, y_test))\n",
    "print(knn.predict([[df.iloc[9500][5],df.iloc[9500][6],df.iloc[9500][7],df.iloc[9500][8]]]))\n",
    "print(df.iloc[3707][9])"
   ]
  },
  {
   "cell_type": "code",
   "execution_count": 25,
   "id": "852484ce",
   "metadata": {},
   "outputs": [],
   "source": [
    "def recommend_product(product):\n",
    "    product_detail = df[df['name'] == product]\n",
    "    \n",
    "    c = knn.predict([[product_detail.iloc[0][5],product_detail.iloc[0][5],product_detail.iloc[0][5],product_detail.iloc[0][5]]])[0]\n",
    "#     print(product_detail.iloc[0][5], c)\n",
    "#     print(df[df['cluster'] == c].head())\n",
    "    return df[df['cluster'] == c].head()"
   ]
  },
  {
   "cell_type": "code",
   "execution_count": 26,
   "id": "44c457f2",
   "metadata": {},
   "outputs": [
    {
     "name": "stdout",
     "output_type": "stream",
     "text": [
      "                                                                                                     name  \\\n",
      "233   iQOO Neo 7 5G (Frost Blue, 8GB RAM, 128GB Storage) | Dimensity 8200, only 4nm Processor in The S...   \n",
      "417   iQOO Neo 6 5G (Dark Nova, 8GB RAM, 128GB Storage) | Only Snapdragon 870 in The Segment | 50% Cha...   \n",
      "7087  HP Pavilion AMD Ryzen 7 5800H 15.6 inches(39.6cm) FHD Gaming Laptop (16GB/512GB SSD/Windows 11 H...   \n",
      "418                                 OnePlus 10R 5G (Forest Green, 12GB RAM, 256GB Storage, 80W SuperVOOC)   \n",
      "4045  Apple 2020 MacBook Air Laptop M1 chip, 13.3-inch/33.74 cm Retina Display, 8GB RAM, 256GB SSD Sto...   \n",
      "\n",
      "            main_category     sub_category  \\\n",
      "233   tv, audio & cameras  All Electronics   \n",
      "417   tv, audio & cameras  All Electronics   \n",
      "7087  tv, audio & cameras  All Electronics   \n",
      "418   tv, audio & cameras  All Electronics   \n",
      "4045  tv, audio & cameras  All Electronics   \n",
      "\n",
      "                                                                                                 image  \\\n",
      "233                                     https://m.media-amazon.com/images/I/61JS7lF2aqL._AC_UL320_.jpg   \n",
      "417   https://m.media-amazon.com/images/W/IMAGERENDERING_521856-T2/images/I/71WS-0ITj7L._AC_UL320_.jpg   \n",
      "7087                                    https://m.media-amazon.com/images/I/51DmOWr3rnL._AC_UL320_.jpg   \n",
      "418   https://m.media-amazon.com/images/W/IMAGERENDERING_521856-T2/images/I/716uVx3Wr5L._AC_UL320_.jpg   \n",
      "4045                                    https://m.media-amazon.com/images/I/71jG+e7roXL._AC_UL320_.jpg   \n",
      "\n",
      "                                                                                                     link  \\\n",
      "233   https://www.amazon.in/iQOO-Storage-MediaTek-Dimensity-Processor/dp/B07WGPKNGT/ref=sr_1_236?qid=1...   \n",
      "417   https://www.amazon.in/iQOO-128GB-Storage-Snapdragon%C2%AE-FlashCharge/dp/B07WDKLDRX/ref=sr_1_419...   \n",
      "7087  https://www.amazon.in/HP-Pavilion-Windows-Graphics-15-ec2146AX/dp/B09MF6F4GH/ref=sr_1_7091?qid=1...   \n",
      "418   https://www.amazon.in/OnePlus-Forest-Green-Storage-SuperVOOC/dp/B09WRKHWP7/ref=sr_1_420?qid=1679...   \n",
      "4045  https://www.amazon.in/Apple-MacBook-Chip-13-inch-256GB/dp/B08N5W4NNB/ref=sr_1_4048?qid=167913390...   \n",
      "\n",
      "      ratings  no_of_ratings  discount_price  actual_price  cluster  \n",
      "233      0.84       0.001524        0.222216      0.216045        1  \n",
      "417      0.88       0.050712        0.214809      0.216045        1  \n",
      "7087     0.84       0.000212        0.562893      0.570399        1  \n",
      "418      0.86       0.028333        0.266661      0.265428        1  \n",
      "4045     0.94       0.009823        0.636968      0.616670        1  \n"
     ]
    },
    {
     "name": "stderr",
     "output_type": "stream",
     "text": [
      "C:\\Users\\HP\\anaconda3\\lib\\site-packages\\sklearn\\base.py:450: UserWarning: X does not have valid feature names, but KNeighborsClassifier was fitted with feature names\n",
      "  warnings.warn(\n",
      "C:\\Users\\HP\\anaconda3\\lib\\site-packages\\sklearn\\neighbors\\_classification.py:228: FutureWarning: Unlike other reduction functions (e.g. `skew`, `kurtosis`), the default behavior of `mode` typically preserves the axis it acts along. In SciPy 1.11.0, this behavior will change: the default value of `keepdims` will become False, the `axis` over which the statistic is taken will be eliminated, and the value None will no longer be accepted. Set `keepdims` to True or False to avoid this warning.\n",
      "  mode, _ = stats.mode(_y[neigh_ind, k], axis=1)\n"
     ]
    }
   ],
   "source": [
    "recommend = recommend_product(\"Spigen Ultra Hybrid Back Cover Case for iPhone 11 (TPU + Poly Carbonate | Matte Black)\")\n",
    "print(recommend)\n",
    "# print(df.iloc[1])"
   ]
  },
  {
   "cell_type": "code",
   "execution_count": 27,
   "id": "b00bb7e6",
   "metadata": {},
   "outputs": [],
   "source": [
    "import pickle\n",
    "pickle.dump(df,open('products.pkl','wb'))"
   ]
  },
  {
   "cell_type": "code",
   "execution_count": 28,
   "id": "a68b449f",
   "metadata": {},
   "outputs": [
    {
     "data": {
      "text/html": [
       "<div>\n",
       "<style scoped>\n",
       "    .dataframe tbody tr th:only-of-type {\n",
       "        vertical-align: middle;\n",
       "    }\n",
       "\n",
       "    .dataframe tbody tr th {\n",
       "        vertical-align: top;\n",
       "    }\n",
       "\n",
       "    .dataframe thead th {\n",
       "        text-align: right;\n",
       "    }\n",
       "</style>\n",
       "<table border=\"1\" class=\"dataframe\">\n",
       "  <thead>\n",
       "    <tr style=\"text-align: right;\">\n",
       "      <th></th>\n",
       "      <th>name</th>\n",
       "      <th>main_category</th>\n",
       "      <th>sub_category</th>\n",
       "      <th>image</th>\n",
       "      <th>link</th>\n",
       "      <th>ratings</th>\n",
       "      <th>no_of_ratings</th>\n",
       "      <th>discount_price</th>\n",
       "      <th>actual_price</th>\n",
       "      <th>cluster</th>\n",
       "    </tr>\n",
       "  </thead>\n",
       "  <tbody>\n",
       "    <tr>\n",
       "      <th>0</th>\n",
       "      <td>Redmi 10 Power (Power Black, 8GB RAM, 128GB Storage)</td>\n",
       "      <td>tv, audio &amp; cameras</td>\n",
       "      <td>All Electronics</td>\n",
       "      <td>https://m.media-amazon.com/images/I/81eM15lVcJL._AC_UL320_.jpg</td>\n",
       "      <td>https://www.amazon.in/Redmi-Power-Black-128GB-Storage/dp/B09Y64H8VS/ref=sr_1_4?qid=1679133649&amp;s=...</td>\n",
       "      <td>0.8</td>\n",
       "      <td>0.002205</td>\n",
       "      <td>0.081475</td>\n",
       "      <td>0.117279</td>\n",
       "      <td>0</td>\n",
       "    </tr>\n",
       "  </tbody>\n",
       "</table>\n",
       "</div>"
      ],
      "text/plain": [
       "                                                   name        main_category  \\\n",
       "0  Redmi 10 Power (Power Black, 8GB RAM, 128GB Storage)  tv, audio & cameras   \n",
       "\n",
       "      sub_category  \\\n",
       "0  All Electronics   \n",
       "\n",
       "                                                            image  \\\n",
       "0  https://m.media-amazon.com/images/I/81eM15lVcJL._AC_UL320_.jpg   \n",
       "\n",
       "                                                                                                  link  \\\n",
       "0  https://www.amazon.in/Redmi-Power-Black-128GB-Storage/dp/B09Y64H8VS/ref=sr_1_4?qid=1679133649&s=...   \n",
       "\n",
       "   ratings  no_of_ratings  discount_price  actual_price  cluster  \n",
       "0      0.8       0.002205        0.081475      0.117279        0  "
      ]
     },
     "execution_count": 28,
     "metadata": {},
     "output_type": "execute_result"
    }
   ],
   "source": [
    "df.head(1)"
   ]
  },
  {
   "cell_type": "code",
   "execution_count": 29,
   "id": "1503f00f",
   "metadata": {},
   "outputs": [],
   "source": [
    "# for i in range(9600):\n",
    "#     print(knn.predict([df.iloc[i][6:9]]))"
   ]
  },
  {
   "cell_type": "code",
   "execution_count": 30,
   "id": "7361bc70",
   "metadata": {},
   "outputs": [],
   "source": [
    "# print(df[6][0], df[6][0], df[6][0], df[6][0])\n",
    "# print(df.iloc[0][6])"
   ]
  },
  {
   "cell_type": "code",
   "execution_count": 31,
   "id": "fdad0cba",
   "metadata": {},
   "outputs": [
    {
     "data": {
      "text/html": [
       "<div>\n",
       "<style scoped>\n",
       "    .dataframe tbody tr th:only-of-type {\n",
       "        vertical-align: middle;\n",
       "    }\n",
       "\n",
       "    .dataframe tbody tr th {\n",
       "        vertical-align: top;\n",
       "    }\n",
       "\n",
       "    .dataframe thead th {\n",
       "        text-align: right;\n",
       "    }\n",
       "</style>\n",
       "<table border=\"1\" class=\"dataframe\">\n",
       "  <thead>\n",
       "    <tr style=\"text-align: right;\">\n",
       "      <th></th>\n",
       "      <th>name</th>\n",
       "      <th>main_category</th>\n",
       "      <th>sub_category</th>\n",
       "      <th>image</th>\n",
       "      <th>link</th>\n",
       "      <th>ratings</th>\n",
       "      <th>no_of_ratings</th>\n",
       "      <th>discount_price</th>\n",
       "      <th>actual_price</th>\n",
       "      <th>cluster</th>\n",
       "    </tr>\n",
       "  </thead>\n",
       "  <tbody>\n",
       "    <tr>\n",
       "      <th>6407</th>\n",
       "      <td>Oblivion USB LED LAMP Night Light, Plug in Small Led Nightlight Mini Portable for PC and Laptop ...</td>\n",
       "      <td>tv, audio &amp; cameras</td>\n",
       "      <td>All Electronics</td>\n",
       "      <td>https://m.media-amazon.com/images/W/IMAGERENDERING_521856-T1/images/I/41ak6zoyx3L._AC_UL320_.jpg</td>\n",
       "      <td>https://www.amazon.in/Oblivion-Night-Nightlight-Portable-Laptop/dp/B0BNN9MNZ3/ref=sr_1_6410?qid=...</td>\n",
       "      <td>0.0</td>\n",
       "      <td>0.0</td>\n",
       "      <td>0.001326</td>\n",
       "      <td>0.001846</td>\n",
       "      <td>2</td>\n",
       "    </tr>\n",
       "    <tr>\n",
       "      <th>8050</th>\n",
       "      <td>Eveready Red AA &amp; AAA Batteries -Multi Pack of 8 (4 AA &amp; 4 AAA Batteries)</td>\n",
       "      <td>tv, audio &amp; cameras</td>\n",
       "      <td>All Electronics</td>\n",
       "      <td>https://m.media-amazon.com/images/W/IMAGERENDERING_521856-T2/images/I/81navLXpv4L._AC_UL320_.jpg</td>\n",
       "      <td>https://www.amazon.in/Eveready-Red-Batteries-Multi-Pack/dp/B0BW1Y9DZG/ref=sr_1_8053?qid=16791341...</td>\n",
       "      <td>0.0</td>\n",
       "      <td>0.0</td>\n",
       "      <td>0.000000</td>\n",
       "      <td>0.000802</td>\n",
       "      <td>2</td>\n",
       "    </tr>\n",
       "  </tbody>\n",
       "</table>\n",
       "</div>"
      ],
      "text/plain": [
       "                                                                                                     name  \\\n",
       "6407  Oblivion USB LED LAMP Night Light, Plug in Small Led Nightlight Mini Portable for PC and Laptop ...   \n",
       "8050                            Eveready Red AA & AAA Batteries -Multi Pack of 8 (4 AA & 4 AAA Batteries)   \n",
       "\n",
       "            main_category     sub_category  \\\n",
       "6407  tv, audio & cameras  All Electronics   \n",
       "8050  tv, audio & cameras  All Electronics   \n",
       "\n",
       "                                                                                                 image  \\\n",
       "6407  https://m.media-amazon.com/images/W/IMAGERENDERING_521856-T1/images/I/41ak6zoyx3L._AC_UL320_.jpg   \n",
       "8050  https://m.media-amazon.com/images/W/IMAGERENDERING_521856-T2/images/I/81navLXpv4L._AC_UL320_.jpg   \n",
       "\n",
       "                                                                                                     link  \\\n",
       "6407  https://www.amazon.in/Oblivion-Night-Nightlight-Portable-Laptop/dp/B0BNN9MNZ3/ref=sr_1_6410?qid=...   \n",
       "8050  https://www.amazon.in/Eveready-Red-Batteries-Multi-Pack/dp/B0BW1Y9DZG/ref=sr_1_8053?qid=16791341...   \n",
       "\n",
       "      ratings  no_of_ratings  discount_price  actual_price  cluster  \n",
       "6407      0.0            0.0        0.001326      0.001846        2  \n",
       "8050      0.0            0.0        0.000000      0.000802        2  "
      ]
     },
     "execution_count": 31,
     "metadata": {},
     "output_type": "execute_result"
    }
   ],
   "source": [
    "df[df.cluster == 2].iloc[[0,1]]"
   ]
  },
  {
   "cell_type": "code",
   "execution_count": null,
   "id": "9dffb518",
   "metadata": {},
   "outputs": [],
   "source": []
  }
 ],
 "metadata": {
  "kernelspec": {
   "display_name": "Python 3 (ipykernel)",
   "language": "python",
   "name": "python3"
  },
  "language_info": {
   "codemirror_mode": {
    "name": "ipython",
    "version": 3
   },
   "file_extension": ".py",
   "mimetype": "text/x-python",
   "name": "python",
   "nbconvert_exporter": "python",
   "pygments_lexer": "ipython3",
   "version": "3.9.13"
  }
 },
 "nbformat": 4,
 "nbformat_minor": 5
}
